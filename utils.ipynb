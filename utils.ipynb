{
 "cells": [
  {
   "cell_type": "code",
   "execution_count": null,
   "metadata": {},
   "outputs": [],
   "source": [
    "from transformers import AutoModelForSeq2SeqLM\n",
    "import torch"
   ]
  },
  {
   "cell_type": "code",
   "execution_count": null,
   "metadata": {},
   "outputs": [],
   "source": [
    "# Convert the RL checkpoints to the model \n",
    "ckpt=torch.load('PATH/TO/RL/CHECKPOINTS',map_location='cpu')\n",
    "model_states=ckpt['policy_state']['policy_model']\n",
    "model=AutoModelForSeq2SeqLM.from_pretrained('PATH/TO/SUPERVISED/CHECKPOINTS')\n",
    "model.load_state_dict(model_states)\n",
    "model.save_pretrained('PATH/TO/RL/MODEL')"
   ]
  }
 ],
 "metadata": {
  "language_info": {
   "name": "python"
  },
  "orig_nbformat": 4
 },
 "nbformat": 4,
 "nbformat_minor": 2
}
